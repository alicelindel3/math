{
  "cells": [
    {
      "cell_type": "markdown",
      "metadata": {
        "id": "view-in-github",
        "colab_type": "text"
      },
      "source": [
        "<a href=\"https://colab.research.google.com/github/alicelindel3/math/blob/main/Section_8/learn.ipynb\" target=\"_parent\"><img src=\"https://colab.research.google.com/assets/colab-badge.svg\" alt=\"Open In Colab\"/></a>"
      ]
    },
    {
      "cell_type": "markdown",
      "metadata": {
        "id": "5cOq5P4_kJKO"
      },
      "source": [
        "# 学習の実装\n",
        "学習するニューロンを実装します。  "
      ]
    },
    {
      "cell_type": "markdown",
      "metadata": {
        "id": "YnB2g3kFkJKS"
      },
      "source": [
        "### 学習するニューロンのコード\n",
        "前回導出したいくつかの式をもとに、学習するニューロンのコードを記述します。"
      ]
    },
    {
      "cell_type": "code",
      "execution_count": null,
      "metadata": {
        "id": "dxGUQL7ykJKU"
      },
      "outputs": [],
      "source": [
        "import numpy as np\n",
        "import matplotlib.pyplot as plt\n",
        "\n",
        "# -- 入力と正解の用意 --\n",
        "input_data = np.linspace(-np.pi/2, np.pi/2)  # 入力\n",
        "correct_data = (np.sin(input_data) + 1)/2    # 正解\n",
        "n_data = len(correct_data)                   # データ数\n",
        "\n",
        "# -- 各設定値 --\n",
        "eta = 0.1        # 学習係数\n",
        "epoch = 100\n",
        "\n",
        "# 各初期値\n",
        "x = 0    # 入力\n",
        "y = 0    # 出力\n",
        "t = 0    # 正解\n",
        "\n",
        "w = 0.2  # 重み\n",
        "b = -0.2  # バイアス\n",
        "grad_w = 0  # 重みの勾配\n",
        "grad_b = 0  # バイアスの勾配\n",
        "\n",
        "\n",
        "def forward():  # 順伝播\n",
        "    global y  # 外部の変数を関数内で変更するには、globalの表記が必要\n",
        "    \n",
        "    u = x*w + b\n",
        "    y = 1/(1+np.exp(-u))  # シグモイド関数\n",
        "    \n",
        "def backward():  # 逆伝播\n",
        "    global grad_w\n",
        "    global grad_b\n",
        "    \n",
        "    delta = (y - t)*(1-y)*y\n",
        "    grad_w = x * delta\n",
        "    grad_b = delta\n",
        "    \n",
        "def update():  # 重みとバイアスの更新\n",
        "    global w\n",
        "    global b\n",
        "    \n",
        "    w -= eta * grad_w\n",
        "    b -= eta * grad_b\n",
        "        \n",
        "\n",
        "# -- 学習 --\n",
        "for i in range(epoch):\n",
        "    \n",
        "    # 結果の表示用\n",
        "    plot_x = []\n",
        "    plot_y = []\n",
        "    \n",
        "    for j in range(n_data):\n",
        "        \n",
        "        x = input_data[j]    # 入力\n",
        "        t = correct_data[j]  # 正解\n",
        "        \n",
        "        forward()\n",
        "        backward()\n",
        "        update()\n",
        "        \n",
        "        # 記録\n",
        "        plot_x.append(x)\n",
        "        plot_y.append(y)\n",
        "            \n",
        "    # グラフ表示\n",
        "    plt.plot(input_data, correct_data, linestyle=\"dashed\")  # 正解\n",
        "    plt.scatter(plot_x, plot_y, marker=\"+\")                 # 出力\n",
        "    plt.show()\n",
        "    \n",
        "    print(\"w:\", w, \"b:\", b)"
      ]
    },
    {
      "cell_type": "markdown",
      "metadata": {
        "id": "W48g0qyDkJKX"
      },
      "source": [
        "出力の曲線が、次第に正解の曲線に近づいていきますね。  \n",
        "ニューロンが学習していることが分かります。\n",
        "\n",
        "今回は単一のニューロンを使用し、入力の数も1つでしたが、ニューロンを複数集めて層にし、さらに層を複数重ねることで大規模なニューラルネットワークを構築することも可能です。  \n",
        "その際は、微分だけではなく線形代数も活躍します。  \n",
        "また、ニューラルネットワークが扱う問題の種類によっては、誤差の計算に確率・統計に基づく式を使うこともあります。\n",
        "\n",
        "以上のようにして、数学に基づく簡単な機械学習を行うことができました。  \n",
        "より複雑な機械学習については、他のコースなどを参考にしてください。"
      ]
    }
  ],
  "metadata": {
    "kernelspec": {
      "display_name": "Python 3",
      "language": "python",
      "name": "python3"
    },
    "language_info": {
      "codemirror_mode": {
        "name": "ipython",
        "version": 3
      },
      "file_extension": ".py",
      "mimetype": "text/x-python",
      "name": "python",
      "nbconvert_exporter": "python",
      "pygments_lexer": "ipython3",
      "version": "3.5.4"
    },
    "colab": {
      "name": "learn.ipynb",
      "provenance": [],
      "include_colab_link": true
    }
  },
  "nbformat": 4,
  "nbformat_minor": 0
}