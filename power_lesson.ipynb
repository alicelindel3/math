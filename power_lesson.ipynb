{
  "cells": [
    {
      "cell_type": "markdown",
      "metadata": {
        "id": "view-in-github",
        "colab_type": "text"
      },
      "source": [
        "<a href=\"https://colab.research.google.com/github/alicelindel3/math/blob/main/power_lesson.ipynb\" target=\"_parent\"><img src=\"https://colab.research.google.com/assets/colab-badge.svg\" alt=\"Open In Colab\"/></a>"
      ]
    },
    {
      "cell_type": "markdown",
      "metadata": {
        "id": "Y1HBaehC38Y_"
      },
      "source": [
        "# 累乗と平方根\n",
        "累乗と平方根は、数式を記述するのに活躍します。"
      ]
    },
    {
      "cell_type": "markdown",
      "metadata": {
        "id": "Y7Fzx9Fn38ZF"
      },
      "source": [
        "### 累乗とは？"
      ]
    },
    {
      "cell_type": "markdown",
      "metadata": {
        "id": "nitWT2QC38ZG"
      },
      "source": [
        "同じ数または文字を何度か掛け合わせることを、累乗といいます。  \n",
        "例えば、\n",
        "$$3\\times 3\\times 3\\times 3\\times 3$$\n",
        "は、3を5つかけていますが、次のように表すことができます。\n",
        "\n",
        "$$3^5$$\n",
        "\n",
        "これは、3の5乗と読みます。  \n",
        "以上を踏まえて、$x$、$y$、を変数、$a$を定数として次のように表すことができます。\n",
        "$$y=a^x$$\n",
        "このとき、$x$、$y$、$a$は整数だけではなく小数になることもあります。\n",
        "\n",
        "また、累乗に関して、以下の関係が成り立ちます。  \n",
        "$$(x^a)^b=x^{ab}$$\n",
        "$$x^ax^b=x^{a+b}$$"
      ]
    },
    {
      "cell_type": "markdown",
      "metadata": {
        "id": "3dKj0gCl38ZH"
      },
      "source": [
        "### 累乗をコードで実装\n",
        "数式$y=a^x$をコードで実装します。"
      ]
    },
    {
      "cell_type": "code",
      "execution_count": null,
      "metadata": {
        "id": "4dHLW3Tg38ZH"
      },
      "outputs": [],
      "source": [
        ""
      ]
    },
    {
      "cell_type": "markdown",
      "metadata": {
        "id": "s7x6eE1938ZI"
      },
      "source": [
        "### 平方根とは？"
      ]
    },
    {
      "cell_type": "markdown",
      "metadata": {
        "id": "jYLOAnJy38ZJ"
      },
      "source": [
        "以下の関係を考えます。\n",
        "$$y=x^a$$\n",
        "このとき、$(x^a)^b=x^{ab}$により、$a=\\frac{1}{2}$であれば、$y$を2乗すると$x$になります。\n",
        "\n",
        "$$ \\begin{aligned} \\\\\n",
        "y^2 & = (x^{\\frac{1}{2}})^2 \\\\\n",
        "& = x\n",
        "\\end{aligned} $$\n",
        "\n",
        "このような、2乗して$x$になる$y$のことを、$x$の**平方根**といいます。  \n",
        "平方根は次のように記述することも多いです。\n",
        "\n",
        "$$y=\\sqrt x$$"
      ]
    },
    {
      "cell_type": "markdown",
      "metadata": {
        "id": "mk_82YLo38ZK"
      },
      "source": [
        "### 平方根をコードで実装\n",
        "数式$y=\\sqrt x$をコードで実装します。"
      ]
    },
    {
      "cell_type": "code",
      "execution_count": null,
      "metadata": {
        "id": "zHWvQSIj38ZL"
      },
      "outputs": [],
      "source": [
        ""
      ]
    },
    {
      "cell_type": "markdown",
      "metadata": {
        "id": "aH4drEsX38ZL"
      },
      "source": [
        "### 演習:\n",
        "コードを補完し、以下の数式のグラフを描画しましょう。\n",
        "$$y=2^x$$\n",
        "$$y=\\sqrt x + 1$$"
      ]
    },
    {
      "cell_type": "code",
      "execution_count": null,
      "metadata": {
        "id": "YhvGb5IA38ZM"
      },
      "outputs": [],
      "source": [
        "import numpy as np\n",
        "import matplotlib.pyplot as plt\n",
        "\n",
        "def my_func(x):\n",
        "    return   # 数式のコード\n",
        "\n",
        "x = np.linspace(0, 4)\n",
        "y = my_func(x)  # y = f(x)\n",
        "\n",
        "plt.plot(x, y)\n",
        "plt.show()"
      ]
    },
    {
      "cell_type": "code",
      "execution_count": null,
      "metadata": {
        "collapsed": true,
        "id": "se2VQPnz38ZN"
      },
      "outputs": [],
      "source": [
        ""
      ]
    }
  ],
  "metadata": {
    "kernelspec": {
      "display_name": "Python 3",
      "language": "python",
      "name": "python3"
    },
    "language_info": {
      "codemirror_mode": {
        "name": "ipython",
        "version": 3
      },
      "file_extension": ".py",
      "mimetype": "text/x-python",
      "name": "python",
      "nbconvert_exporter": "python",
      "pygments_lexer": "ipython3",
      "version": "3.5.4"
    },
    "colab": {
      "name": "power_lesson.ipynb",
      "provenance": [],
      "include_colab_link": true
    }
  },
  "nbformat": 4,
  "nbformat_minor": 0
}