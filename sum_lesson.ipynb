{
  "cells": [
    {
      "cell_type": "markdown",
      "metadata": {
        "id": "view-in-github",
        "colab_type": "text"
      },
      "source": [
        "<a href=\"https://colab.research.google.com/github/alicelindel3/math/blob/main/sum_lesson.ipynb\" target=\"_parent\"><img src=\"https://colab.research.google.com/assets/colab-badge.svg\" alt=\"Open In Colab\"/></a>"
      ]
    },
    {
      "cell_type": "markdown",
      "metadata": {
        "id": "oyOTXdYDJILe"
      },
      "source": [
        "# 総和と総乗\n",
        "総和と総乗を簡潔な記号で記述し、Numpyで実装する方法を学びます。"
      ]
    },
    {
      "cell_type": "markdown",
      "metadata": {
        "id": "-CACZ8ooJILj"
      },
      "source": [
        "### 総和とは？\n",
        "\n",
        "総和とは、次のように複数の数値を全て足し合わせることです。\n",
        "\n",
        "$$1+3+2+5+4$$\n",
        "\n",
        "これを、数値の総数が$n$として一般化すると次のようになります。\n",
        "\n",
        "$$a_1+a_2+\\cdots +a_{n-1}+a_n$$\n",
        "\n",
        "これは、$\\Sigma$を用いて次のように短く記述することができます。\n",
        "\n",
        "$$\\sum_{k=1}^n a_k$$\n",
        "\n",
        "以前に扱った多項式の一般形は、$\\Sigma$を用いて短く記述することができます。\n",
        "\n",
        "$$ \\begin{aligned} \\\\\n",
        "y & = a_nx^n+a_{n-1}x^{n-1}+\\cdots+a_1x+ a_0\\\\\n",
        "& = \\sum_{k=0}^n a_kx^k\n",
        "\\end{aligned} $$\n"
      ]
    },
    {
      "cell_type": "markdown",
      "metadata": {
        "id": "76Of6c4kJILl"
      },
      "source": [
        "### 総和を実装\n",
        "以下の総和をコードで実装します。NumPyのsum関数を使います。\n",
        "$$y=\\sum_{k=1}^5 a_k$$\n",
        "$$a_1=1, a_2=3, a_3=2, a_4=5, a_5=4$$"
      ]
    },
    {
      "cell_type": "code",
      "execution_count": null,
      "metadata": {
        "id": "-6vtTTs0JILl"
      },
      "outputs": [],
      "source": [
        ""
      ]
    },
    {
      "cell_type": "markdown",
      "metadata": {
        "id": "PoKTrnfIJILn"
      },
      "source": [
        "### 総乗とは？\n",
        "\n",
        "総乗とは、次のように複数の数値を全てかけ合わせることです。\n",
        "\n",
        "$$1\\times 3\\times 2\\times 5\\times 4$$\n",
        "\n",
        "これを、数値の総数が$n$として一般化すると次のようになります。\n",
        "\n",
        "$$a_1a_2 \\cdots a_{n-1}a_n$$\n",
        "\n",
        "これは、$\\Pi$を用いて次のように短く記述することができます。\n",
        "\n",
        "$$\\prod_{k=1}^n a_k$$"
      ]
    },
    {
      "cell_type": "markdown",
      "metadata": {
        "id": "RWPDOPxUJILn"
      },
      "source": [
        "### 総乗を実装\n",
        "以下の総乗をコードで実装します。NumPyのprod関数を使います。\n",
        "$$y=\\prod_{k=1}^5 a_k$$\n",
        "$$a_1=1, a_2=3, a_3=2, a_4=5, a_5=4$$"
      ]
    },
    {
      "cell_type": "code",
      "execution_count": null,
      "metadata": {
        "id": "lcurLAO6JILo"
      },
      "outputs": [],
      "source": [
        ""
      ]
    },
    {
      "cell_type": "markdown",
      "metadata": {
        "id": "9y5ifsAKJILp"
      },
      "source": [
        "### 演習:\n",
        "以下のコードにおける配列`b`の各要素の、総和と総乗を計算し表示しましょう。"
      ]
    },
    {
      "cell_type": "code",
      "execution_count": null,
      "metadata": {
        "id": "J50pWnCIJILp"
      },
      "outputs": [],
      "source": [
        "import numpy as np\n",
        "\n",
        "b = np.array([6, 1, 5, 4, 3, 2])\n"
      ]
    }
  ],
  "metadata": {
    "kernelspec": {
      "display_name": "Python 3",
      "language": "python",
      "name": "python3"
    },
    "language_info": {
      "codemirror_mode": {
        "name": "ipython",
        "version": 3
      },
      "file_extension": ".py",
      "mimetype": "text/x-python",
      "name": "python",
      "nbconvert_exporter": "python",
      "pygments_lexer": "ipython3",
      "version": "3.5.4"
    },
    "colab": {
      "name": "sum_lesson.ipynb",
      "provenance": [],
      "include_colab_link": true
    }
  },
  "nbformat": 4,
  "nbformat_minor": 0
}